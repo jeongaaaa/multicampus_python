{
  "nbformat": 4,
  "nbformat_minor": 0,
  "metadata": {
    "colab": {
      "provenance": [],
      "authorship_tag": "ABX9TyNGDNBzccLXBuqZk3uYUSJS",
      "include_colab_link": true
    },
    "kernelspec": {
      "name": "python3",
      "display_name": "Python 3"
    },
    "language_info": {
      "name": "python"
    }
  },
  "cells": [
    {
      "cell_type": "markdown",
      "metadata": {
        "id": "view-in-github",
        "colab_type": "text"
      },
      "source": [
        "<a href=\"https://colab.research.google.com/github/YangJeongA/multicampus_python/blob/main/Python%EC%9D%98_%ED%8A%B9%EC%A7%95.ipynb\" target=\"_parent\"><img src=\"https://colab.research.google.com/assets/colab-badge.svg\" alt=\"Open In Colab\"/></a>"
      ]
    },
    {
      "cell_type": "markdown",
      "source": [
        "##Python이 장점을 갖는 분야"
      ],
      "metadata": {
        "id": "30K2Ry-X_uzW"
      }
    },
    {
      "cell_type": "markdown",
      "source": [
        "###1. 시스템 유틸리티 작업\n",
        ": 파이썬은 시스템 명령어를 사용할 수 있는 패키지들을 갖추고 있기 때문에 이를 활용하여 유틸리티를 만들 수 있다.\n",
        "이미 만들어진 유틸리티가 아닌 나에게 필요한 형태의 유틸리티를 만들어 보자."
      ],
      "metadata": {
        "id": "wAgHCjcR_yUf"
      }
    },
    {
      "cell_type": "markdown",
      "source": [
        "###2. GUI 프로그래밍\n",
        ": GUI(Graphic User Interface)프로그래밍이란? 화면에 새로운 윈도우 창을 만들고 그 창에 메뉴나 버튼, 그림 등을\n",
        "추가하여 프로그램을 동작 시킬 수 있다. TKinter나 PyQT5와 같은 패키지를 활용하여 윈도우 창을 만들 수 있다."
      ],
      "metadata": {
        "id": "lokyOvmV_4Uz"
      }
    },
    {
      "cell_type": "markdown",
      "source": [
        "###3. C/C++과의 연동\n",
        ": 파이썬은 접착(glue) 언어라고도 부르는데, 그 이유는 다른 언어와 잘 어울려 결합해서 사용할 수 있기 때문이다.\n",
        "C나 C++로 만든 프로그램을 파이썬에서 사용할 수 있으며, 파이썬으로 만든 프로그램 역시 C나 C++에서 사용할\n",
        "수 있다"
      ],
      "metadata": {
        "id": "lBz8jUNn_8Lk"
      }
    },
    {
      "cell_type": "markdown",
      "source": [
        "###4. 웹 프로그래밍\n",
        "파이썬은 Django나 Flask와 같은 웹프레임워크 패키지를 통해서 상대적으로 쉽게 웹 프로그래밍이 가능하다."
      ],
      "metadata": {
        "id": "X5IpXh1UAEZV"
      }
    },
    {
      "cell_type": "markdown",
      "source": [
        "###5. 데이터 사이언스\n",
        ": 최근 많은 곳에서 데이터를 기반으로 하여 의사 결정을 내리기를 원한다. 이러한 데이터 분석 분야에 있어 파이썬은 더 할 나위 없이 적합한 언어이다. numpy, pandas, matplotlib,\n",
        "scipy, scikit-learn, tensorflow, pytorch등 데이터 사이언스를 위한 패키지들이 있어 이를 활용하면 된다."
      ],
      "metadata": {
        "id": "m3tNXE0uAFxw"
      }
    },
    {
      "cell_type": "markdown",
      "source": [
        "###6. 데이터베이스 프로그래밍\n",
        ": 오라클(Oracle), 마이에스큐엘(MySQL), 포스트그레스큐엘(PostgreSQL) 등의 데이터베이스에 접근하기 위한\n",
        "도구를 제공한다. 또한 이런 데이터베이스를 직접 사용하는 것 외에도 파이썬에는 피클(pickle)이라는 모듈이\n",
        "있다. 피클은 파이썬에서 사용하는 자료를 변형 없이 그대로 파일에 저장하고 불러올 수 있다.\n",
        "\n"
      ],
      "metadata": {
        "id": "RuEeLwFAAQFp"
      }
    },
    {
      "cell_type": "markdown",
      "source": [
        "###7. 사물인터넷\n",
        ": 사물 인터넷 분야에서도 파이썬은 활용도가 높다. 한 예로 라즈베리파이(Raspberry Pi)는 리눅스 기반의\n",
        "아주 작은 컴퓨터이다. 라즈베리파이를 사용하면 홈시어터나 아주 작은 게임기 등 여러 가지 재미있는\n",
        "것들을 만들 수 있는데, 파이썬은 이 라즈베리파이를 제어하는 도구로 사용된다. 예를 들어 라즈베리파이에\n",
        "연결된 모터를 작동시키거나 LED에 불이 들어오게 하는 일을 파이썬으로 할 수 있다."
      ],
      "metadata": {
        "id": "pOhkisK8AUlO"
      }
    },
    {
      "cell_type": "markdown",
      "source": [
        "##Python이 하기 어려운 분야"
      ],
      "metadata": {
        "id": "mB984ouQAYQT"
      }
    },
    {
      "cell_type": "markdown",
      "source": [
        "###시스템 제어 분야\n",
        ": 파이썬으로 리눅스 같은 운영체제, 엄청난 횟수의 반복과 연산이 필요한 프로그램 또는 데이터 압축 알고리즘\n",
        "개발 프로그램 등을 만드는 것은 어렵다. 즉 대단히 빠른 속도를 요구하거나 하드웨어를 직접 건드려야 하는\n",
        "프로그램에는 어울리지 않는다."
      ],
      "metadata": {
        "id": "5nBqjMx-AZ8r"
      }
    }
  ]
}